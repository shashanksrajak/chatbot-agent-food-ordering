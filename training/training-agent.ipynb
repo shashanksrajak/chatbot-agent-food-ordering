{
 "cells": [
  {
   "cell_type": "markdown",
   "id": "f47bb49e",
   "metadata": {},
   "source": [
    "## Training for Chatbot Agent"
   ]
  },
  {
   "cell_type": "code",
   "execution_count": 767,
   "id": "e1df9254",
   "metadata": {},
   "outputs": [],
   "source": [
    "\n",
    "from dotenv import load_dotenv\n",
    "from langchain.chat_models import init_chat_model\n",
    "from langchain_core.prompts import ChatPromptTemplate\n",
    "from langchain.output_parsers import PydanticOutputParser\n",
    "from pydantic import BaseModel, Field\n",
    "from typing_extensions import TypedDict\n",
    "from typing import List, Annotated\n",
    "\n",
    "from langgraph.graph import StateGraph, START, END\n",
    "from langgraph.graph.message import add_messages\n",
    "from langgraph.prebuilt import InjectedState\n",
    "from langgraph.checkpoint.memory import MemorySaver\n",
    "from IPython.display import Image, display, Markdown\n",
    "\n",
    "import requests\n",
    "import os\n",
    "from supabase import create_client, Client\n",
    "from dotenv import load_dotenv\n",
    "from typing import Optional\n",
    "from pprint import pprint\n",
    "from datetime import datetime\n"
   ]
  },
  {
   "cell_type": "code",
   "execution_count": 768,
   "id": "67fa768d",
   "metadata": {},
   "outputs": [
    {
     "data": {
      "text/plain": [
       "True"
      ]
     },
     "execution_count": 768,
     "metadata": {},
     "output_type": "execute_result"
    }
   ],
   "source": [
    "load_dotenv()"
   ]
  },
  {
   "cell_type": "code",
   "execution_count": 769,
   "id": "1e13db9a",
   "metadata": {},
   "outputs": [],
   "source": [
    "MENU_BACKEND_URL = os.getenv(\"MENU_BACKEND_URL\")"
   ]
  },
  {
   "cell_type": "code",
   "execution_count": 770,
   "id": "98bb9d04",
   "metadata": {},
   "outputs": [],
   "source": [
    "model = init_chat_model(\"gemini-2.5-flash\", model_provider=\"google_genai\")\n",
    "# response = model.invoke(\"Hello World!!\")\n",
    "# print(response)"
   ]
  },
  {
   "cell_type": "markdown",
   "id": "9c2e3928",
   "metadata": {},
   "source": [
    "### Chatbot Agent for Food Ordering\n",
    "\n",
    "The objectives of this agent are:\n",
    "1. To help customers browse the food menu. Customers can say - \"I want a coffee\" and chatbot should respond with coffee options and help customer choose a coffee.\n",
    "2. Customers can add item to their cart - \n",
    "3. Customers can place order \n",
    "4. Customers can check their placed order with orderID"
   ]
  },
  {
   "cell_type": "markdown",
   "id": "48158998",
   "metadata": {},
   "source": [
    "### Initial State for the Agent\n",
    "Define the State for our Graph workflow"
   ]
  },
  {
   "cell_type": "code",
   "execution_count": 771,
   "id": "6d9adaf9",
   "metadata": {},
   "outputs": [],
   "source": [
    "# Cart Items & Cart\n",
    "\n",
    "class ItemVariation(BaseModel):\n",
    "    id: str = Field(description=\"Unique id of this variation for the item\")\n",
    "    name: str = Field(description=\"Name of this variation\")\n",
    "    price: str = Field(description=\"Price of this variation of the item\")\n",
    "\n",
    "class CartItemUnit(BaseModel):\n",
    "    key: str = Field(\n",
    "        description=\"Unique key for the item in the cart to match an item being added\")\n",
    "    quantity: int = Field(description=\"Quantity of this specific variation/customization\")\n",
    "    base_price: float = Field(description=\"Base price of the item (cannot be null)\")\n",
    "    variation: Optional[ItemVariation] = Field(default=None, description=\"Variation of the item if available\")\n",
    "\n",
    "class CartItem(BaseModel):\n",
    "    item_id: str = Field(description=\"unique UUID for this item\")\n",
    "    title: str = Field(description=\"Name of the item\")\n",
    "    units: List[CartItemUnit]\n",
    "\n",
    "class Cart(BaseModel):\n",
    "    items: List[CartItem] = Field(default_factory=List)\n",
    "    "
   ]
  },
  {
   "cell_type": "code",
   "execution_count": 772,
   "id": "833c5816",
   "metadata": {},
   "outputs": [],
   "source": [
    "class OrderState(TypedDict):\n",
    "    \"\"\"State representing the customer's order conversation.\"\"\"\n",
    "\n",
    "    # The `add_messages` annotation indicates to LangGraph\n",
    "    # that state is updated by appending returned messages, not replacing\n",
    "    # them.\n",
    "    messages: Annotated[list, add_messages]\n",
    "\n",
    "    # The customer's in-progress order.\n",
    "    # its a list but can be a list of dict in real world to capture more details about the order\n",
    "    # its essentialy the cart\n",
    "    cart: Optional[Cart]\n",
    "    \n",
    "    orderId: Optional[str]\n",
    "\n",
    "    # Flag indicating that the order is placed and completed.\n",
    "    finished: bool"
   ]
  },
  {
   "cell_type": "markdown",
   "id": "d30474b1",
   "metadata": {},
   "source": [
    "### Prompt"
   ]
  },
  {
   "cell_type": "code",
   "execution_count": 773,
   "id": "89625941",
   "metadata": {},
   "outputs": [],
   "source": [
    "# The system instruction defines how the chatbot is expected to behave and includes\n",
    "# rules for when to call different functions, as well as rules for the conversation, such\n",
    "# as tone and what is permitted for discussion.\n",
    "SYSTEM_INSTRUCTION = (\n",
    "    \"system\",  # 'system' indicates the message is a system instruction.\n",
    "    \"You are a helpful chatbot named Annapurna based in India, an interactive food ordering system for Zaaika India. A human will talk to you about the \"\n",
    "    \"available products you have and you will answer any questions about menu items (and only about \"\n",
    "    \"menu items - no off-topic discussion, but you can chat about the products and their history). \"\n",
    "    \"Use the get_menu tool to fetch the lastest menu items available.\"\n",
    "    \"Always greet the customer with Namaste and personalized messages, keep the experience delightful for them\"\n",
    "    \"The customer will place an order for 1 or more items from the menu, which you will structure \"\n",
    "    \"and send to the ordering system after confirming the order with the human. \"\n",
    "    \"\\n\\n\"\n",
    "    \"User can ask to add items in the cart. Add items to the customer's cart with add_cart, and reset the cart with clear_cart. \"\n",
    "    \"IMPORTANT: When a customer wants to add or remove multiple different items, add or remove them ONE AT A TIME using separate add_cart or remove_from_cart calls.\"\n",
    "    \"To see the contents of the cart so far, call get_cart (this is shown to you, not the user) \"\n",
    "    \"Always confirm_order with the user (double-check) before calling place_order. Calling confirm_order will \"\n",
    "    \"display the order items to the user and returns their response to seeing the list. Their response may contain modifications. \"\n",
    "    \"Always verify and respond with available variations of items in the MENU before adding them to the order. \"\n",
    "    \"If you are unsure an item matches those on the MENU, ask a question to clarify or redirect. Customers can also ask for some item \"\n",
    "    \"that is related to the items in the menu, in such cases show them the items in the MENU and tell them that this is similar to what they are asking\"\n",
    "    \"Once the customer has finished ordering items, Call confirm_order to ensure it is correct then make \"\n",
    "    \"any necessary updates and then call place_order. Once place_order has returned, thank the user, show them order details and \"\n",
    "    \"say goodbye!\"\n",
    "    \"\\n\\n\"\n",
    "    \"If any of the tools are unavailable, you can break the fourth wall and tell the user that \"\n",
    "    \"they have not implemented them yet and should keep reading to do so.\",\n",
    ")\n",
    "\n",
    "# This is the message with which the system opens the conversation.\n",
    "WELCOME_MSG = \"Welcome to the Bella Italia cafe. Type `q` to quit. How may I serve you today?\""
   ]
  },
  {
   "cell_type": "markdown",
   "id": "e63b303b",
   "metadata": {},
   "source": [
    "### Tools\n",
    "\n",
    "NOTE \n",
    "- Earlier it was not possible to update Agent State from inside a Tool in LangGraph. But with latest updates, it has been allowed now to update the State directly from a tool. Check this [official doc](https://langchain-ai.github.io/langgraph/how-tos/tool-calling/#update-state)"
   ]
  },
  {
   "cell_type": "code",
   "execution_count": 774,
   "id": "1b097d74",
   "metadata": {},
   "outputs": [],
   "source": [
    "from langchain_core.tools import tool\n",
    "from langgraph.prebuilt import ToolNode, tools_condition"
   ]
  },
  {
   "cell_type": "code",
   "execution_count": 775,
   "id": "364fd8e8",
   "metadata": {},
   "outputs": [],
   "source": [
    "@tool\n",
    "def get_menu():\n",
    "    \"\"\"Provide the latest up-to-date menu.\"\"\"\n",
    "    \n",
    "    # once you fetch the menu from backend service\n",
    "    # try to convert it into LLM readable format (if possible - check this case)\n",
    "    \n",
    "    response = requests.get(\n",
    "        MENU_BACKEND_URL + \"/v1/storefront/menu?subdomain=zaaika-india\")\n",
    "    \n",
    "    if response.status_code == 200:\n",
    "        # pprint(response.json())\n",
    "        menu = response.json()\n",
    "        items = menu['items']\n",
    "        # pprint(items)\n",
    "        return items\n",
    "    else:\n",
    "        print(\"Error fetching the menu\")"
   ]
  },
  {
   "cell_type": "code",
   "execution_count": 776,
   "id": "8e207d1c",
   "metadata": {},
   "outputs": [],
   "source": [
    "from langchain_core.tools import tool, InjectedToolCallId\n",
    "from langgraph.types import Command\n",
    "from langchain_core.messages import ToolMessage\n",
    "\n",
    "\n",
    "@tool\n",
    "def add_cart(item_id: str, title: str, new_item: CartItemUnit, tool_call_id: Annotated[str, InjectedToolCallId], state: Annotated[OrderState, InjectedState]):\n",
    "    \"\"\"\n",
    "    Adds an item to the cart\n",
    "    \n",
    "    Args:\n",
    "    item_id : Unique UUID for the item\n",
    "    title: Title of the item\n",
    "    new_item: Cart item details with base_price, quantity, and variation (only if the item has variants like Full/Half)\n",
    "    \"\"\"\n",
    "\n",
    "    # Handle variation ID safely\n",
    "    variation_id = \"no_variant\"\n",
    "    valid_variation = None\n",
    "\n",
    "    # Only process variation if it exists and has valid data\n",
    "    if (new_item.variation and\n",
    "        hasattr(new_item.variation, 'id') and\n",
    "        new_item.variation.id and\n",
    "            new_item.variation.id.strip()):\n",
    "        variation_id = new_item.variation.id\n",
    "        valid_variation = new_item.variation\n",
    "\n",
    "\n",
    "    item_key = f\"{item_id}|{variation_id}\"\n",
    "\n",
    "    # Create a proper CartItemUnit with the key\n",
    "    updated_unit = CartItemUnit(\n",
    "        key=item_key,\n",
    "        quantity=new_item.quantity,\n",
    "        base_price=new_item.base_price,\n",
    "        variation=valid_variation\n",
    "    )\n",
    "    \n",
    "    print(updated_unit)\n",
    "\n",
    "    # Get current cart\n",
    "    current_cart = state[\"cart\"]\n",
    "    if current_cart is None:\n",
    "        # If cart is None, create new cart with this item\n",
    "        new_cart_item = CartItem(\n",
    "            item_id=item_id,\n",
    "            title=title,\n",
    "            units=[updated_unit]\n",
    "        )\n",
    "        updated_cart = Cart(items=[new_cart_item])\n",
    "    else:\n",
    "        # Check if item already exists in cart\n",
    "        item_found = False\n",
    "        updated_items = []\n",
    "\n",
    "        for existing_item in current_cart.items:\n",
    "            if existing_item.item_id == item_id:\n",
    "                # Item exists, check if this specific variant exists\n",
    "                unit_found = False\n",
    "                updated_units = []\n",
    "\n",
    "                for existing_unit in existing_item.units:\n",
    "                    if existing_unit.key == item_key:\n",
    "                        # Same variant exists, increment quantity\n",
    "                        updated_units.append(CartItemUnit(\n",
    "                            key=existing_unit.key,\n",
    "                            quantity=existing_unit.quantity + new_item.quantity,\n",
    "                            base_price=existing_unit.base_price,\n",
    "                            variation=existing_unit.variation\n",
    "                        ))\n",
    "                        unit_found = True\n",
    "                    else:\n",
    "                        updated_units.append(existing_unit)\n",
    "\n",
    "                if not unit_found:\n",
    "                    # New variant of existing item\n",
    "                    updated_units.append(updated_unit)\n",
    "\n",
    "                updated_items.append(CartItem(\n",
    "                    item_id=existing_item.item_id,\n",
    "                    title=existing_item.title,\n",
    "                    units=updated_units\n",
    "                ))\n",
    "                item_found = True\n",
    "            else:\n",
    "                updated_items.append(existing_item)\n",
    "\n",
    "        if not item_found:\n",
    "            # Completely new item\n",
    "            new_cart_item = CartItem(\n",
    "                item_id=item_id,\n",
    "                title=title,\n",
    "                units=[updated_unit]\n",
    "            )\n",
    "            updated_items.append(new_cart_item)\n",
    "\n",
    "        updated_cart = Cart(items=updated_items)\n",
    "\n",
    "    print(\"Printing cart\")\n",
    "    pprint(updated_cart.model_dump())\n",
    "\n",
    "    return Command(update={\n",
    "        \"cart\": updated_cart,\n",
    "        \"messages\": [\n",
    "            ToolMessage(\n",
    "                f\"Added {title} to cart\", tool_call_id=tool_call_id)\n",
    "        ]\n",
    "    })"
   ]
  },
  {
   "cell_type": "code",
   "execution_count": 777,
   "id": "c753cd1d",
   "metadata": {},
   "outputs": [],
   "source": [
    "@tool\n",
    "def remove_from_cart(item_id: str, title: str, new_item: CartItemUnit, tool_call_id: Annotated[str, InjectedToolCallId], state: Annotated[OrderState, InjectedState]):\n",
    "    \"\"\"\n",
    "    Removes an item from the cart\n",
    "    \n",
    "    Args:\n",
    "    item_id : Unique UUID for the item\n",
    "    title: Title of the item\n",
    "    new_item: A dict containing base_price and quantity of the item to remove\n",
    "    \"\"\"\n",
    "\n",
    "    # Handle variation ID safely\n",
    "    variation_id = \"no_variant\"\n",
    "    if new_item.variation and hasattr(new_item.variation, 'id'):\n",
    "        variation_id = new_item.variation.id\n",
    "\n",
    "    item_key = f\"{item_id}|{variation_id}\"\n",
    "\n",
    "    # Get current cart\n",
    "    current_cart = state[\"cart\"]\n",
    "    if current_cart is None or not current_cart.items:\n",
    "        return Command(update={\n",
    "            \"messages\": [\n",
    "                ToolMessage(\n",
    "                    f\"Cart is empty. Cannot remove {title}.\", tool_call_id=tool_call_id)\n",
    "            ]\n",
    "        })\n",
    "\n",
    "    # Find and remove the item\n",
    "    updated_items = []\n",
    "    item_found = False\n",
    "    removal_message = f\"Item {title} not found in cart.\"\n",
    "\n",
    "    for existing_item in current_cart.items:\n",
    "        if existing_item.item_id == item_id:\n",
    "            # Item exists, check if this specific variant exists\n",
    "            unit_found = False\n",
    "            updated_units = []\n",
    "\n",
    "            for existing_unit in existing_item.units:\n",
    "                if existing_unit.key == item_key:\n",
    "                    # Found the variant to remove\n",
    "                    unit_found = True\n",
    "                    if existing_unit.quantity > new_item.quantity:\n",
    "                        # Reduce quantity\n",
    "                        updated_units.append(CartItemUnit(\n",
    "                            key=existing_unit.key,\n",
    "                            quantity=existing_unit.quantity - new_item.quantity,\n",
    "                            base_price=existing_unit.base_price,\n",
    "                            variation=existing_unit.variation\n",
    "                        ))\n",
    "                        removal_message = f\"Reduced {title} quantity by {new_item.quantity}\"\n",
    "                    elif existing_unit.quantity == new_item.quantity:\n",
    "                        # Remove this variant completely (don't add to updated_units)\n",
    "                        removal_message = f\"Removed {title} from cart\"\n",
    "                    else:\n",
    "                        # Trying to remove more than available\n",
    "                        updated_units.append(existing_unit)\n",
    "                        removal_message = f\"Cannot remove {new_item.quantity} {title}. Only {existing_unit.quantity} available.\"\n",
    "                else:\n",
    "                    # Keep other variants\n",
    "                    updated_units.append(existing_unit)\n",
    "\n",
    "            if unit_found:\n",
    "                item_found = True\n",
    "                if updated_units:\n",
    "                    # Still has other variants, keep the item\n",
    "                    updated_items.append(CartItem(\n",
    "                        item_id=existing_item.item_id,\n",
    "                        title=existing_item.title,\n",
    "                        units=updated_units\n",
    "                    ))\n",
    "                # If no units left, item is completely removed (don't add to updated_items)\n",
    "            else:\n",
    "                # Variant not found, keep original item\n",
    "                updated_items.append(existing_item)\n",
    "                removal_message = f\"Variant of {title} not found in cart.\"\n",
    "        else:\n",
    "            # Different item, keep it\n",
    "            updated_items.append(existing_item)\n",
    "\n",
    "    if not item_found:\n",
    "        # Item ID not found at all\n",
    "        updated_cart = current_cart\n",
    "    else:\n",
    "        # Update cart with remaining items\n",
    "        updated_cart = Cart(items=updated_items)\n",
    "\n",
    "    print(\"Cart after removal:\")\n",
    "    pprint(updated_cart.model_dump())\n",
    "\n",
    "    return Command(update={\n",
    "        \"cart\": updated_cart,\n",
    "        \"messages\": [\n",
    "            ToolMessage(removal_message, tool_call_id=tool_call_id)\n",
    "        ]\n",
    "    })"
   ]
  },
  {
   "cell_type": "code",
   "execution_count": 778,
   "id": "7b546dab",
   "metadata": {},
   "outputs": [],
   "source": [
    "@tool\n",
    "def clear_cart():\n",
    "    \"\"\"Clears the entire cart and removes all the present items in the cart\"\"\"\n",
    "    return"
   ]
  },
  {
   "cell_type": "code",
   "execution_count": 779,
   "id": "472a380b",
   "metadata": {},
   "outputs": [],
   "source": [
    "@tool\n",
    "def confirm_order(state: Annotated[OrderState, InjectedState]):\n",
    "    \"\"\"Provide the lastest items in the cart for user to confirm\"\"\"\n",
    "    return state['cart']"
   ]
  },
  {
   "cell_type": "code",
   "execution_count": 780,
   "id": "ce37fe47",
   "metadata": {},
   "outputs": [],
   "source": [
    "@tool\n",
    "def get_cart(state: Annotated[OrderState, InjectedState]):\n",
    "    \"\"\"Provide the lastest items in the cart\"\"\"\n",
    "    # print(\"Input State\", state)\n",
    "    return state['cart']\n",
    "    "
   ]
  },
  {
   "cell_type": "code",
   "execution_count": 781,
   "id": "7307bfc8",
   "metadata": {},
   "outputs": [],
   "source": [
    "@tool\n",
    "def place_order(tool_call_id: Annotated[str, InjectedToolCallId], state: Annotated[OrderState, InjectedState]):\n",
    "    \"\"\"Place the order and complete the ordering process\"\"\"\n",
    "\n",
    "    current_cart = state['cart']\n",
    "\n",
    "    # Check if cart is empty\n",
    "    if current_cart is None or not current_cart.items:\n",
    "        return Command(update={\n",
    "            \"messages\": [\n",
    "                ToolMessage(\n",
    "                    \"Cannot place order. Cart is empty. Please add items to your cart first.\",\n",
    "                    tool_call_id=tool_call_id\n",
    "                )\n",
    "            ]\n",
    "        })\n",
    "\n",
    "    # TODO: Call the backend API to place the order which returns an orderId for the customer\n",
    "    # For now, we'll simulate with a mock order ID\n",
    "    import uuid\n",
    "    mock_order_id = str(uuid.uuid4())[:8]  # Generate a short mock order ID\n",
    "\n",
    "    # Calculate total items for confirmation message\n",
    "    total_items = sum(sum(unit.quantity for unit in item.units)\n",
    "                      for item in current_cart.items)\n",
    "\n",
    "    # Clear the cart after placing order\n",
    "    empty_cart = Cart(items=[])\n",
    "\n",
    "    # Update state: clear cart, set orderId, and mark as finished\n",
    "    return Command(update={\n",
    "        \"cart\": empty_cart,\n",
    "        \"orderId\": mock_order_id,\n",
    "        \"finished\": True,\n",
    "        \"messages\": [\n",
    "            ToolMessage(\n",
    "                f\"Order placed successfully! Your order ID is {mock_order_id}. \"\n",
    "                f\"Total items: {total_items}. Thank you for your order!\",\n",
    "                tool_call_id=tool_call_id\n",
    "            )\n",
    "        ]\n",
    "    })"
   ]
  },
  {
   "cell_type": "markdown",
   "id": "7031e820",
   "metadata": {},
   "source": [
    "### Final tools"
   ]
  },
  {
   "cell_type": "code",
   "execution_count": null,
   "id": "370b831c",
   "metadata": {},
   "outputs": [],
   "source": [
    "\n",
    "tools = [get_menu, get_cart, add_cart, remove_from_cart, place_order, confirm_order]\n",
    "\n",
    "# we use prebuilt ToolNode from LangGraph\n",
    "tool_node = ToolNode(tools)\n",
    "\n",
    "# bind these tools to the LLM\n",
    "model_with_tools = model.bind_tools(tools)"
   ]
  },
  {
   "cell_type": "markdown",
   "id": "96a12753",
   "metadata": {},
   "source": [
    "### Nodes"
   ]
  },
  {
   "cell_type": "code",
   "execution_count": 783,
   "id": "722ea180",
   "metadata": {},
   "outputs": [],
   "source": [
    "from langchain_core.messages.ai import AIMessage\n",
    "\n",
    "\n",
    "def chatbot(state: OrderState) -> OrderState:\n",
    "    \"\"\"The chatbot itself. A wrapper around the model's own chat interface.\"\"\"\n",
    "\n",
    "    if state[\"messages\"]:\n",
    "        # If there are messages, continue the conversation with the model.\n",
    "        new_output = model_with_tools.invoke([SYSTEM_INSTRUCTION] + state[\"messages\"])\n",
    "    else:\n",
    "        # If there are no messages, start with the welcome message.\n",
    "        new_output = AIMessage(content=WELCOME_MSG)\n",
    "\n",
    "    # Initialize cart as Cart model if not present or if it's an empty list\n",
    "    current_cart = state.get(\"cart\")\n",
    "    if current_cart is None or current_cart == []:\n",
    "        current_cart = Cart(items=[])\n",
    "        \n",
    "    return {\n",
    "        \"messages\": state.get(\"messages\", []) + [new_output],\n",
    "        \"cart\": current_cart,\n",
    "        \"orderId\": state.get(\"orderId\"),\n",
    "        \"finished\": state.get(\"finished\", False)\n",
    "    }"
   ]
  },
  {
   "cell_type": "markdown",
   "id": "97117d95",
   "metadata": {},
   "source": [
    "### Build the graph"
   ]
  },
  {
   "cell_type": "code",
   "execution_count": 784,
   "id": "ab714263",
   "metadata": {},
   "outputs": [
    {
     "data": {
      "text/plain": [
       "<langgraph.graph.state.StateGraph at 0x10e574260>"
      ]
     },
     "execution_count": 784,
     "metadata": {},
     "output_type": "execute_result"
    }
   ],
   "source": [
    "chatbot_graph_builder = StateGraph(OrderState)\n",
    "\n",
    "# node names\n",
    "NODE_CHATBOT = \"chatbot\"\n",
    "NODE_TOOLS = \"tools\"\n",
    "\n",
    "# nodes\n",
    "chatbot_graph_builder.add_node(NODE_CHATBOT, chatbot)\n",
    "chatbot_graph_builder.add_node(NODE_TOOLS, tool_node)\n",
    "\n",
    "# edges\n",
    "chatbot_graph_builder.add_edge(START, NODE_CHATBOT)\n",
    "# tools will always return back to chatbot\n",
    "chatbot_graph_builder.add_edge(NODE_TOOLS, NODE_CHATBOT)\n",
    "chatbot_graph_builder.add_conditional_edges(NODE_CHATBOT, tools_condition)"
   ]
  },
  {
   "cell_type": "markdown",
   "id": "9537a98d",
   "metadata": {},
   "source": [
    "### Create Memory checkpointer\n",
    "This is crucial for building multi turn chat conversations."
   ]
  },
  {
   "cell_type": "code",
   "execution_count": 785,
   "id": "13daa7b5",
   "metadata": {},
   "outputs": [],
   "source": [
    "memory = MemorySaver()"
   ]
  },
  {
   "cell_type": "markdown",
   "id": "7b39a5d8",
   "metadata": {},
   "source": [
    "### Compile the Graph"
   ]
  },
  {
   "cell_type": "code",
   "execution_count": 786,
   "id": "ab7c02b9",
   "metadata": {},
   "outputs": [],
   "source": [
    "chatbot_graph = chatbot_graph_builder.compile(checkpointer=memory) # compile the graph with memory checkpointer created above"
   ]
  },
  {
   "cell_type": "code",
   "execution_count": 787,
   "id": "6ccef752",
   "metadata": {},
   "outputs": [
    {
     "data": {
      "image/png": "[encoded data removed]",
      "text/plain": [
       "<IPython.core.display.Image object>"
      ]
     },
     "metadata": {},
     "output_type": "display_data"
    }
   ],
   "source": [
    "from IPython.display import Image, display\n",
    "\n",
    "try:\n",
    "    display(Image(chatbot_graph.get_graph().draw_mermaid_png()))\n",
    "except Exception:\n",
    "    # This requires some extra dependencies and is optional\n",
    "    pass"
   ]
  },
  {
   "cell_type": "markdown",
   "id": "08f9493a",
   "metadata": {},
   "source": [
    "### Interact with the Chatbot\n",
    "1. check how to stream chat back to the UI client"
   ]
  },
  {
   "cell_type": "code",
   "execution_count": 788,
   "id": "b27391c9",
   "metadata": {},
   "outputs": [],
   "source": [
    "def chatbot_streaming(session_id: str, user_message: str):\n",
    "    # initialize the config\n",
    "    if not session_id:\n",
    "        raise ValueError(\"session_id is missing.\")\n",
    "    config = {\"configurable\": {\"thread_id\": session_id}}\n",
    "    \n",
    "    events = chatbot_graph.stream(\n",
    "        {\"messages\": [{\"role\": \"user\", \"content\": user_message}]},\n",
    "        config,\n",
    "        stream_mode=\"values\",\n",
    "        # stream_mode=\"messages\"\n",
    "    )\n",
    "\n",
    "\n",
    "    for event in events:\n",
    "        last_message = event['messages'][-1]\n",
    "        if type(last_message).__name__ == 'ToolMessage':\n",
    "            if last_message.status == \"error\":\n",
    "                print(last_message.content)\n",
    "            else:\n",
    "                print(f\"{type(last_message).__name__}: {last_message.content[:30]}...\")\n",
    "        else:\n",
    "            print(f\"{type(last_message).__name__}: {last_message.content}\")\n",
    "\n",
    "        if last_message.type == \"ai\":\n",
    "            print(f\"Tools called: \", last_message.tool_calls)\n",
    "        \n",
    "            \n",
    "\n",
    "    "
   ]
  },
  {
   "cell_type": "code",
   "execution_count": 802,
   "id": "ba3a3e18",
   "metadata": {},
   "outputs": [
    {
     "name": "stdout",
     "output_type": "stream",
     "text": [
      "HumanMessage: Yes i am fine\n",
      "AIMessage: \n",
      "Tools called:  [{'name': 'place_order', 'args': {}, 'id': '3220fb2a-9996-4153-a10b-1f05cdc5bbb5', 'type': 'tool_call'}]\n",
      "ToolMessage: Order placed successfully! You...\n",
      "AIMessage: Thank you for your order! Your order has been placed successfully. Your order ID is b8384a11, and you have a total of 6 items.\n",
      "\n",
      "Goodbye and hope to serve you again soon!\n",
      "Tools called:  []\n"
     ]
    }
   ],
   "source": [
    "session_id = \"1\"\n",
    "\n",
    "user_message = \"Hi, I am Shashank.\"\n",
    "# user_message = \"Hi, do you remember my name?\"\n",
    "# user_message = \"What menu items do your cafe have?\"\n",
    "# user_message = \"Tell me something about Paneer Butter Masala\"\n",
    "# user_message = \"Can you check if I have some items in my order?\"\n",
    "# user_message = \"What's your name?\"\n",
    "user_message = \"I want to order Ras Malai\"\n",
    "user_message = \"Yes add Ras Malai to cart\"\n",
    "# user_message = \"I want a black coffee\"\n",
    "# user_message = \"What else you have in the main course?\"\n",
    "# user_message = \"I want Veg Kolhapuri.\"\n",
    "# user_message = \"Full\"\n",
    "# user_message = \"Can you show me my cart.\"\n",
    "# user_message = \"I want 2 more ras malais.\"\n",
    "# user_message=\"Add one paneer butter masala\"\n",
    "# user_message=\"Can you check whats the total amount\"\n",
    "# user_message=\"I want to remove paneer butter masala\"\n",
    "user_message=\"I want to add veg kolhapuri\"\n",
    "user_message=\"2 Half\"\n",
    "# user_message=\"3 Half Veg Kolhapuri and 1 Ras Malai\"\n",
    "# user_message=\"Yes\"\n",
    "# user_message=\"Remove veg kolhapuri\"\n",
    "# user_message=\"Half\"\n",
    "# user_message=\"Remove coffee from cart\" \n",
    "user_message=\"Place this order\"\n",
    "user_message=\"Yes i am fine\"\n",
    "# user_message=\"Do we have any cottage cheese?\"\n",
    "\n",
    "# user_message=\"Add 1 Paneer Butter Masala and 2 Ras Malais\"\n",
    "chatbot_streaming(session_id=session_id, user_message=user_message)"
   ]
  },
  {
   "cell_type": "code",
   "execution_count": 790,
   "id": "f5480bb5",
   "metadata": {},
   "outputs": [],
   "source": [
    "# session_id = 2\n",
    "\n",
    "# while True:\n",
    "#     try:\n",
    "#         user_input = input(\"User: \")\n",
    "#         # to allow quit\n",
    "#         if user_input.lower() in [\"quit\", \"exit\", \"q\"]:\n",
    "#             print(\"Goodbye!\")\n",
    "#             break\n",
    "#         chatbot_streaming(session_id, user_input)\n",
    "#     except:\n",
    "#         # fallback if input() is not available\n",
    "#         user_input = \"What do you know about LangGraph?\"\n",
    "#         print(\"User: \" + user_input)\n",
    "#         chatbot_streaming(session_id, user_input)\n",
    "#         break"
   ]
  },
  {
   "cell_type": "markdown",
   "id": "d835db2d",
   "metadata": {},
   "source": [
    "### Observations\n",
    "1. the chatbot consistently asks the user what would they like to order? no off topic discussion and drive the chat back to the agenda - ordering food!\n",
    "2. I developed the same chatbot using DialogFlow but the major difference is that it was more like a chatbot, robotic tone. This one with LLM is more creative, more humane like. \n",
    "3. The good thing is we do not need extenstive training here, eg. if an items comes in different variants full and half, if the user asks to add this in order, LLM asks a follow up question to know the variant. This is cool actually.\n",
    "```sh\n",
    "HumanMessage: I want to add veg kolhapuri\n",
    "AIMessage: Do you want a Full or Half order of Veg Kolhapuri?\n",
    "Tools called:  []\n",
    "```\n",
    "\n",
    "```sh\n",
    "HumanMessage: Remove veg kolhapuri\n",
    "AIMessage: Which Veg Kolhapuri would you like to remove? The Full, the Half, or both?\n",
    "Tools called:  []\n",
    "```\n",
    "\n",
    "```sh\n",
    "HumanMessage: Remove coffee from cart\n",
    "AIMessage: I don't see any coffee in your cart currently. Would you like to add coffee, or did you mean to remove something else?\n",
    "Tools called:  []\n",
    "```\n",
    "\n",
    "```sh\n",
    "HumanMessage: Place this order\n",
    "AIMessage: Okay, so I have:\n",
    "- 1 Ras Malai\n",
    "- 2 Veg Kolhapuri (Full)\n",
    "\n",
    "Is that correct?\n",
    "Tools called:  []\n",
    "```\n",
    "\n",
    "```sh\n",
    "HumanMessage: Do we have any cottage cheese?\n",
    "AIMessage: Namaste! Yes, we do have dishes with cottage cheese, which is known as Paneer in India. We have:\n",
    "\n",
    "*   **Paneer Butter Masala**: A delicious creamy and full of butter paneer dish for ₹320.\n",
    "*   **Ras Malai**: A rich and creamy Indian dessert featuring soft paneer dumplings for ₹90.\n",
    "*   **Veg Nargisi Kofta**: Vegetable and paneer dumplings served in a rich and creamy tomato-based gravy. It's available in Full for ₹340 and Half for ₹190.\n",
    "\n",
    "Would you like to add any of these to your order?\n",
    "Tools called:  []\n",
    "```\n",
    "\n",
    "4. Also, it handles lot of routine methods like getting the total amount from cart, which otherwise require a function to write.\n",
    "\n",
    "```sh\n",
    "HumanMessage: I want to remove paneer butter masala\n",
    "AIMessage: No problem. I have not implemented the remove item functionality yet! Keep reading the instructions to see how to implement this.\n",
    "Tools called:  []\n",
    "```"
   ]
  },
  {
   "cell_type": "code",
   "execution_count": 791,
   "id": "9d8adcc0",
   "metadata": {},
   "outputs": [],
   "source": [
    "def get_current_state(session_id: str):\n",
    "    config = {\"configurable\": {\"thread_id\": session_id}}\n",
    "    snapshot = chatbot_graph.get_state(config)\n",
    "    return snapshot"
   ]
  },
  {
   "cell_type": "code",
   "execution_count": 799,
   "id": "744f36a0",
   "metadata": {},
   "outputs": [],
   "source": [
    "current_state = get_current_state(session_id)\n",
    "# pprint(current_state.values)"
   ]
  },
  {
   "cell_type": "code",
   "execution_count": 800,
   "id": "351802ad",
   "metadata": {},
   "outputs": [
    {
     "data": {
      "text/plain": [
       "{'items': [{'item_id': '0e2c5969-c73e-440a-9444-557b2fab9206',\n",
       "   'title': 'Ras Malai',\n",
       "   'units': [{'key': '0e2c5969-c73e-440a-9444-557b2fab9206|no_variant',\n",
       "     'quantity': 3,\n",
       "     'base_price': 90.0,\n",
       "     'variation': None}]},\n",
       "  {'item_id': 'f7e1be59-a4f6-4497-854c-d21fbba8bd83',\n",
       "   'title': 'Veg Kolhapuri',\n",
       "   'units': [{'key': 'f7e1be59-a4f6-4497-854c-d21fbba8bd83|a7eb2f4f-ad08-458f-87a1-b92cb300b83c',\n",
       "     'quantity': 2,\n",
       "     'base_price': 160.0,\n",
       "     'variation': {'id': 'a7eb2f4f-ad08-458f-87a1-b92cb300b83c',\n",
       "      'name': 'Half',\n",
       "      'price': '160'}}]},\n",
       "  {'item_id': 'd352577d-5eb1-40db-9a43-102325de1eb8',\n",
       "   'title': 'Paneer Butter Masala',\n",
       "   'units': [{'key': 'd352577d-5eb1-40db-9a43-102325de1eb8|no_variant',\n",
       "     'quantity': 1,\n",
       "     'base_price': 320.0,\n",
       "     'variation': None}]}]}"
      ]
     },
     "execution_count": 800,
     "metadata": {},
     "output_type": "execute_result"
    }
   ],
   "source": [
    "cart = current_state.values['cart']\n",
    "cart.model_dump()"
   ]
  }
 ],
 "metadata": {
  "kernelspec": {
   "display_name": "training",
   "language": "python",
   "name": "python3"
  },
  "language_info": {
   "codemirror_mode": {
    "name": "ipython",
    "version": 3
   },
   "file_extension": ".py",
   "mimetype": "text/x-python",
   "name": "python",
   "nbconvert_exporter": "python",
   "pygments_lexer": "ipython3",
   "version": "3.12.10"
  }
 },
 "nbformat": 4,
 "nbformat_minor": 5
}
